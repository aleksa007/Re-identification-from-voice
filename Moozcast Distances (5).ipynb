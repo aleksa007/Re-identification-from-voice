{
 "cells": [
  {
   "cell_type": "markdown",
   "id": "b79e7f61",
   "metadata": {
    "heading_collapsed": true
   },
   "source": [
    "# Initialisation"
   ]
  },
  {
   "cell_type": "code",
   "execution_count": 1,
   "id": "4472f4ce",
   "metadata": {
    "hidden": true
   },
   "outputs": [
    {
     "data": {
      "text/html": [
       "<style>.container { width:95% !important; }</style>"
      ],
      "text/plain": [
       "<IPython.core.display.HTML object>"
      ]
     },
     "metadata": {},
     "output_type": "display_data"
    }
   ],
   "source": [
    "%config Completer.use_jedi = False\n",
    "from IPython.core.display import display, HTML\n",
    "display(HTML(\"<style>.container { width:95% !important; }</style>\"))"
   ]
  },
  {
   "cell_type": "code",
   "execution_count": 2,
   "id": "7a9c13d4",
   "metadata": {
    "hidden": true,
    "scrolled": true
   },
   "outputs": [
    {
     "name": "stdout",
     "output_type": "stream",
     "text": [
      "Num threads set to: 48\n",
      "Ran on (Sat, 2021-05-15 16:53 EEST +0300)\n"
     ]
    }
   ],
   "source": [
    "import os\n",
    "os.environ[\"OMP_NUM_THREADS\"] = str(os.cpu_count())\n",
    "os.environ[\"OPENBLAS_NUM_THREADS\"] = str(os.cpu_count())\n",
    "os.environ[\"MKL_NUM_THREADS\"] = str(os.cpu_count())\n",
    "os.environ[\"VECLIB_MAXIMUM_THREADS\"] = str(os.cpu_count())\n",
    "os.environ[\"NUMEXPR_NUM_THREADS\"] = str(os.cpu_count())\n",
    "\n",
    "import re\n",
    "import pickle\n",
    "import numpy as np\n",
    "import seaborn as sns\n",
    "import matplotlib.cm as cmap #Importing colormap\n",
    "sns.set()\n",
    "\n",
    "from pytz import timezone\n",
    "from datetime import datetime\n",
    "from collections import namedtuple\n",
    "from sklearn.preprocessing import OrdinalEncoder\n",
    "\n",
    "from sklearn.cluster import KMeans\n",
    "from sklearn.neighbors import DistanceMetric\n",
    "\n",
    "\n",
    "def SaveVariable(Variable, FileName):\n",
    "    with open(FileName, 'wb') as io:\n",
    "        pickle.dump(Variable, io)\n",
    "    \n",
    "def LoadVariable(FileName):\n",
    "    with open(FileName, \"rb\") as io:\n",
    "        Res = pickle.load(io)\n",
    "    return Res\n",
    "\n",
    "print(\"Num threads set to:\", os.cpu_count())\n",
    "print(\"Ran on (\" + datetime.now(timezone('Europe/Athens')).strftime(\"%a, %Y-%m-%d %H:%M %Z %z\") + \")\")\n",
    "\n",
    "from performance_function import calculate_performance_numpy"
   ]
  },
  {
   "cell_type": "markdown",
   "id": "a9d94803",
   "metadata": {},
   "source": [
    "# Data"
   ]
  },
  {
   "cell_type": "code",
   "execution_count": 14,
   "id": "1da0ae36",
   "metadata": {},
   "outputs": [
    {
     "name": "stdout",
     "output_type": "stream",
     "text": [
      "Unique Values: Y_Train (600)\n",
      "X_Train: <class 'numpy.ndarray'> (9600, 11025) -1.0 1.0\n",
      "X_Test : <class 'numpy.ndarray'> (320, 11025) -1.0 1.0\n",
      "Y_Train: <class 'numpy.ndarray'> (9600,) 0.0 599.0 600\n",
      "\n",
      "Y_Train[:10]: [0. 0. 0. 0. 0. 0. 0. 0. 0. 0.]\n",
      "\n",
      "X_Train.shape (9600, 11025)  Y_Train.shape (9600,)\n",
      "X_Test.shape  (320, 11025)\n",
      "K          600\n",
      "N: 9600 H1: 0 W1: 0 D: 11025\n"
     ]
    }
   ],
   "source": [
    "SupervisedType = \"Classification\"\n",
    "RandomState = 1337\n",
    "\n",
    "X_Train, Y_Train = LoadVariable(f\"{os.getcwd()}/raw_data.pkl\")\n",
    "X_Test = LoadVariable(f\"{os.getcwd()}/test_data (2).pkl\")[0]\n",
    "IntEncoder = OrdinalEncoder()\n",
    "Y_Train = IntEncoder.fit_transform([[x] for x in Y_Train]).squeeze()\n",
    "# Y_Test = IntEncoder.transform([[x] for x in Y_Test]).squeeze()\n",
    "\n",
    "N = X_Train.shape[0]\n",
    "Y_TrainUnique = set(Y_Train)\n",
    "# Y_TestUnique = set(Y_Test)\n",
    "print(f\"Unique Values: Y_Train ({len(Y_TrainUnique)})\") #, Y_Test ({len(Y_TestUnique)}), all values are the same: {Y_TrainUnique == Y_TestUnique}\")\n",
    "\n",
    "\n",
    "print(\"X_Train:\", type(X_Train), X_Train.shape, X_Train.min(), X_Train.max())\n",
    "print(\"X_Test :\", type(X_Test), X_Test.shape, X_Test.min(), X_Test.max())\n",
    "\n",
    "print(\"Y_Train:\", type(Y_Train), Y_Train.shape, min(Y_Train), max(Y_Train), len(set(Y_Train)))\n",
    "# print(\"Y_Test: \", type(Y_Test), Y_Test.shape, min(Y_Test), max(Y_Test), len(set(Y_Test)))\n",
    "\n",
    "print(\"\\nY_Train[:10]:\", Y_Train[:10])\n",
    "\n",
    "# number of classes\n",
    "K = len(set(Y_Train)) if SupervisedType.lower() == \"classification\" and len(set(Y_Train)) != 2 else (Y_Train.shape[1] if SupervisedType.lower() == \"multivariateregression\" else 1) #An output_size (K) > 1 can be either Multiclass or Multivariate-Regression, like Lat/Lon coordinates\n",
    "\n",
    "if 'train_dataset' in locals() or 'train_dataset' in globals():\n",
    "    tmpX, tmpY = next(iter(train_loader))\n",
    "    NonSingularDims = np.sum([1 for DimVal in tmpX.shape if DimVal > 1])\n",
    "    if NonSingularDims == 2:\n",
    "        N, D = [DimVal for DimVal in tmpX.shape if DimVal > 1]\n",
    "        H1, W1 = (0, 0)\n",
    "    elif NonSingularDims == 3:\n",
    "        D = 0\n",
    "        N, H1, W1 =[DimVal for DimVal in tmpX.shape if DimVal > 1] #This is RNN NxTxD\n",
    "    elif NonSingularDims == 4:\n",
    "        N, H1, W1, D = [DimVal for DimVal in tmpX.shape if DimVal > 1]\n",
    "    \n",
    "else:\n",
    "    if len(X_Train.shape) == 2:\n",
    "        N, D = X_Train.shape\n",
    "        H1, W1 = (0, 0)\n",
    "    elif len(X_Train.shape) == 3:\n",
    "        D = 0\n",
    "        N, H1, W1 = X_Train.shape #This is a Picture with no Colour, not RNN\n",
    "    elif len(X_Train.shape) == 4:\n",
    "        N, H1, W1, D = X_Train.shape\n",
    "\n",
    "print()\n",
    "print(\"X_Train.shape\", X_Train.shape, \" Y_Train.shape\", Y_Train.shape)\n",
    "print(\"X_Test.shape \", X_Test.shape)#, \" Y_Test.shape \", Y_Test.shape)\n",
    "print(\"K         \", K)\n",
    "print(\"N:\", N, \"H1:\", H1, \"W1:\", W1, \"D:\", D)\n",
    "if 'train_dataset' in locals() or 'train_dataset' in globals():\n",
    "    print(f\"\\nData after transformation with batch size = {batch_size}:\")\n",
    "    print(\"X.shape\", tuple(tmpX.shape), \"\\tY.shape\", tuple(tmpY.shape))"
   ]
  },
  {
   "cell_type": "markdown",
   "id": "67e82bec",
   "metadata": {},
   "source": [
    "# Model"
   ]
  },
  {
   "cell_type": "markdown",
   "id": "b81fed90",
   "metadata": {},
   "source": [
    "Euclidean Distance: sqrt(sum((x - y)^2))"
   ]
  },
  {
   "cell_type": "code",
   "execution_count": 26,
   "id": "102e6c1e",
   "metadata": {},
   "outputs": [
    {
     "name": "stdout",
     "output_type": "stream",
     "text": [
      "0.34% accuracy with the (Euclidean) Metric\n",
      "The cmc scores are: [0.00572917 0.0109375  0.01479167 0.02489583]\n"
     ]
    }
   ],
   "source": [
    "Euclidean = DistanceMetric.get_metric('euclidean')\n",
    "EucDist = Euclidean.pairwise(X_Train)\n",
    "\n",
    "cmc_scores, acc = calculate_performance_numpy(EucDist, Y_Train)\n",
    "print(f\"{(acc * 100):.2f}% accuracy with the (Euclidean) Metric\")\n",
    "print(\"The cmc scores are:\", cmc_scores)"
   ]
  },
  {
   "cell_type": "markdown",
   "id": "be0e83f5",
   "metadata": {},
   "source": [
    "Manhattan Distance sum(|x - y|)"
   ]
  },
  {
   "cell_type": "code",
   "execution_count": 33,
   "id": "7a485f84",
   "metadata": {},
   "outputs": [
    {
     "name": "stdout",
     "output_type": "stream",
     "text": [
      "0.43% accuracy with the (Manhattan) Metric\n",
      "The cmc scores are: [0.00854167 0.0159375  0.02       0.02989583]\n"
     ]
    }
   ],
   "source": [
    "Manhattan = DistanceMetric.get_metric('manhattan')\n",
    "ManhDist = Manhattan.pairwise(X_Train)\n",
    "\n",
    "cmc_scores, acc = calculate_performance_numpy(ManhDist, Y_Train)\n",
    "print(f\"{(acc * 100):.2f}% accuracy with the (Manhattan) Metric\")\n",
    "print(\"The cmc scores are:\", cmc_scores)"
   ]
  },
  {
   "cell_type": "markdown",
   "id": "cc2ecadc",
   "metadata": {},
   "source": [
    "Chebyshev Distance max(|x - y|)"
   ]
  },
  {
   "cell_type": "code",
   "execution_count": 34,
   "id": "9ae78d78",
   "metadata": {},
   "outputs": [
    {
     "name": "stdout",
     "output_type": "stream",
     "text": [
      "0.29% accuracy with the (Chebyshev) Metric\n",
      "The cmc scores are: [0.00375    0.01135417 0.01625    0.0278125 ]\n"
     ]
    }
   ],
   "source": [
    "Chebyshev = DistanceMetric.get_metric('chebyshev')\n",
    "ChebDist = Chebyshev.pairwise(X_Train)\n",
    "\n",
    "cmc_scores, acc = calculate_performance_numpy(ChebDist, Y_Train)\n",
    "print(f\"{(acc * 100):.2f}% accuracy with the (Chebyshev) Metric\")\n",
    "print(\"The cmc scores are:\", cmc_scores)"
   ]
  },
  {
   "cell_type": "markdown",
   "id": "24db7999",
   "metadata": {},
   "source": [
    "Hamming Distance N_unequal(x, y) / N_tot"
   ]
  },
  {
   "cell_type": "code",
   "execution_count": 39,
   "id": "e4cd26a2",
   "metadata": {},
   "outputs": [
    {
     "name": "stdout",
     "output_type": "stream",
     "text": [
      "0.16% accuracy with the (Hamming) Metric\n",
      "The cmc scores are: [0.0025     0.00541667 0.00614583 0.0078125 ]\n"
     ]
    }
   ],
   "source": [
    "Hamming = DistanceMetric.get_metric('hamming')\n",
    "HammDist = Hamming.pairwise(X_Train)\n",
    "\n",
    "cmc_scores, acc = calculate_performance_numpy(HammDist, Y_Train)\n",
    "print(f\"{(acc * 100):.2f}% accuracy with the (Hamming) Metric\")\n",
    "print(\"The cmc scores are:\", cmc_scores)"
   ]
  },
  {
   "cell_type": "markdown",
   "id": "7fcd5b6c",
   "metadata": {},
   "source": [
    "Canberra Distance sum(|x - y| / (|x| + |y|))"
   ]
  },
  {
   "cell_type": "code",
   "execution_count": 41,
   "id": "2e4ba04f",
   "metadata": {},
   "outputs": [
    {
     "name": "stdout",
     "output_type": "stream",
     "text": [
      "2.36% accuracy with the (Canberra) Metric\n",
      "The cmc scores are: [0.04645833 0.0846875  0.11072917 0.15354167]\n"
     ]
    }
   ],
   "source": [
    "Canberra = DistanceMetric.get_metric('canberra')\n",
    "CanbDist = Canberra.pairwise(X_Train)\n",
    "\n",
    "cmc_scores, acc = calculate_performance_numpy(CanbDist, Y_Train)\n",
    "print(f\"{(acc * 100):.2f}% accuracy with the (Canberra) Metric\")\n",
    "print(\"The cmc scores are:\", cmc_scores)"
   ]
  },
  {
   "cell_type": "markdown",
   "id": "bd3eec1a",
   "metadata": {},
   "source": [
    "BrayCurtis Distance sum(|x - y|) / (sum(|x|) + sum(|y|))"
   ]
  },
  {
   "cell_type": "code",
   "execution_count": 42,
   "id": "9acc99d6",
   "metadata": {},
   "outputs": [
    {
     "name": "stdout",
     "output_type": "stream",
     "text": [
      "1.77% accuracy with the (Braycurtis) Metric\n",
      "The cmc scores are: [0.03354167 0.06427083 0.08520833 0.12208333]\n"
     ]
    }
   ],
   "source": [
    "Braycurtis = DistanceMetric.get_metric('braycurtis')\n",
    "BraycDist = Braycurtis.pairwise(X_Train)\n",
    "\n",
    "cmc_scores, acc = calculate_performance_numpy(BraycDist, Y_Train)\n",
    "print(f\"{(acc * 100):.2f}% accuracy with the (Braycurtis) Metric\")\n",
    "print(\"The cmc scores are:\", cmc_scores)"
   ]
  },
  {
   "cell_type": "markdown",
   "id": "7fd11529",
   "metadata": {},
   "source": [
    "# Saving the Results"
   ]
  },
  {
   "cell_type": "code",
   "execution_count": 43,
   "id": "3396671f",
   "metadata": {},
   "outputs": [],
   "source": [
    "Euclidean = DistanceMetric.get_metric('euclidean')\n",
    "EucDist = Euclidean.pairwise(X_Test)\n",
    "SaveVariable(EucDist, \"test_distances_euclidean.pkl\")\n",
    "\n",
    "Manhattan = DistanceMetric.get_metric('manhattan')\n",
    "ManhDist = Manhattan.pairwise(X_Test)\n",
    "SaveVariable(ManhDist, \"test_distances_manhattan.pkl\")\n",
    "\n",
    "Chebyshev = DistanceMetric.get_metric('chebyshev')\n",
    "ChebDist = Chebyshev.pairwise(X_Test)\n",
    "SaveVariable(ChebDist, \"test_distances_chebyshev.pkl\")\n",
    "\n",
    "Hamming = DistanceMetric.get_metric('hamming')\n",
    "HammDist = Hamming.pairwise(X_Test)\n",
    "SaveVariable(HammDist, \"test_distances_hamming.pkl\")\n",
    "\n",
    "Canberra = DistanceMetric.get_metric('canberra')\n",
    "CanbDist = Canberra.pairwise(X_Test)\n",
    "SaveVariable(CanbDist, \"test_distances_canberra.pkl\")\n",
    "\n",
    "Braycurtis = DistanceMetric.get_metric('braycurtis')\n",
    "BraycDist = Braycurtis.pairwise(X_Test)\n",
    "SaveVariable(BraycDist, \"test_distances_braycurtis.pkl\")"
   ]
  }
 ],
 "metadata": {
  "kernelspec": {
   "display_name": "Python 3",
   "language": "python",
   "name": "python3"
  },
  "language_info": {
   "codemirror_mode": {
    "name": "ipython",
    "version": 3
   },
   "file_extension": ".py",
   "mimetype": "text/x-python",
   "name": "python",
   "nbconvert_exporter": "python",
   "pygments_lexer": "ipython3",
   "version": "3.7.10"
  }
 },
 "nbformat": 4,
 "nbformat_minor": 5
}
